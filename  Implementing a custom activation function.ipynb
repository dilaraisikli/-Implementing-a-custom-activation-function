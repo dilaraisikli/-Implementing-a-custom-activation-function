{
 "cells": [
  {
   "cell_type": "markdown",
   "metadata": {
    "id": "sdnnRxTNdyW1"
   },
   "source": [
    "\n",
    "## Implementing a custom activation function\n",
    "\n"
   ]
  },
  {
   "cell_type": "code",
   "execution_count": null,
   "metadata": {
    "id": "jzm3DjeRsBoZ"
   },
   "outputs": [],
   "source": [
    "import tensorflow as tf\n",
    "from tensorflow.keras.constraints import NonNeg\n",
    "from tensorflow.keras.activations import elu\n",
    "from tensorflow.math import exp\n",
    "from tensorflow.math import multiply\n",
    "from tensorflow.math import divide\n",
    "from tensorflow.math import square\n",
    "from tensorflow.keras import optimizers\n",
    "from tensorflow.keras import losses\n",
    "from tensorflow.keras import metrics\n",
    "import pandas as pd"
   ]
  },
  {
   "cell_type": "markdown",
   "metadata": {
    "id": "5u4aF6Z4maHd"
   },
   "source": [
    "### Exercise 1: implement the PELU\n"
   ]
  },
  {
   "cell_type": "code",
   "execution_count": null,
   "metadata": {
    "id": "DfCpFg2xdug_"
   },
   "outputs": [],
   "source": [
    "class PELU(tf.keras.layers.Layer):\n",
    "    def __init__(self, units=32):\n",
    "        super(PELU, self).__init__()\n",
    "        self.units = units\n",
    "\n",
    "    def build(self, input_shape):\n",
    "        \n",
    "        paramater_init = tf.random_uniform_initializer(minval=0.1, maxval=0.9)\n",
    "        self.paramater_A = self.add_weight(shape=(self.units,), initializer=paramater_init, trainable=True,constraint = NonNeg(),\n",
    "dtype='float32')\n",
    "        self.paramater_B = self.add_weight(shape=(self.units,), initializer=paramater_init, trainable=True,constraint = NonNeg(),\n",
    "dtype='float32')\n",
    "        \n",
    "    def call(self, inputs): # Defines the computation from inputs to outputs\n",
    "        alpha_=self.paramater_A\n",
    "        beta=self.paramater_B\n",
    "        input_tensor= divide(inputs,beta)\n",
    "        output_tensor = elu(input_tensor, alpha=1.0)\n",
    "        return  multiply(alpha_, output_tensor)       "
   ]
  },
  {
   "cell_type": "markdown",
   "metadata": {
    "id": "-QY0TfCxo9yd"
   },
   "source": [
    "### Exercise 2: some preliminary tests\n",
    "\n",
    "To evaluate your implementation, let us start by creating a single PELU function:"
   ]
  },
  {
   "cell_type": "code",
   "execution_count": null,
   "metadata": {
    "id": "DFNFXarBe8DV"
   },
   "outputs": [],
   "source": [
    "pelu = PELU(units=1)"
   ]
  },
  {
   "cell_type": "markdown",
   "metadata": {
    "id": "RWY76mEepSgj"
   },
   "source": [
    "**Exercise 2.1**: plot the function using the skeleton code below."
   ]
  },
  {
   "cell_type": "code",
   "execution_count": null,
   "metadata": {
    "colab": {
     "base_uri": "https://localhost:8080/",
     "height": 282
    },
    "id": "jdK0CyscfDtC",
    "outputId": "115a95fb-39a3-4ca3-92ea-840afc99a647"
   },
   "outputs": [
    {
     "data": {
      "text/plain": [
       "[<matplotlib.lines.Line2D at 0x7fc8e6e67630>]"
      ]
     },
     "execution_count": 4,
     "metadata": {
      "tags": []
     },
     "output_type": "execute_result"
    },
    {
     "data": {
      "image/png": "[encoded data removed]",
      "text/plain": [
       "<Figure size 432x288 with 1 Axes>"
      ]
     },
     "metadata": {
      "needs_background": "light",
      "tags": []
     },
     "output_type": "display_data"
    }
   ],
   "source": [
    "import matplotlib.pyplot as plt\n",
    "x_range = tf.linspace(-5.0, 5.0, 200) # An equispaced grid of 200 points in [-5, +5]\n",
    "y_range = pelu(x_range)\n",
    "\n",
    "plt.plot(x_range.numpy(), y_range.numpy())"
   ]
  },
  {
   "cell_type": "markdown",
   "metadata": {
    "id": "dXAUxQSRrdGn"
   },
   "source": [
    "**Exercise 2.2**: using a tf.GradientTape object, compute the derivative above using automatic differentiation, and check its correctness up to a certain numerical precision."
   ]
  },
  {
   "cell_type": "code",
   "execution_count": null,
   "metadata": {
    "id": "BfsjPjbdF_F3"
   },
   "outputs": [],
   "source": [
    "#Derivative function of PELU w.r.t alpha\n",
    "def der_pelu_a(inputs):\n",
    "  alpha_=pelu.paramater_A\n",
    "  beta=pelu.paramater_B\n",
    "  \n",
    "  return  divide(inputs * tf.cast(inputs>=0, dtype='float32') , beta) + exp(divide(inputs * tf.cast(inputs<0, dtype='float32') , beta) ) -1"
   ]
  },
  {
   "cell_type": "code",
   "execution_count": null,
   "metadata": {
    "id": "b8jxLuvlT5iC"
   },
   "outputs": [],
   "source": [
    "der_peluA=der_pelu_a(x_range)"
   ]
  },
  {
   "cell_type": "code",
   "execution_count": null,
   "metadata": {
    "colab": {
     "base_uri": "https://localhost:8080/",
     "height": 279
    },
    "id": "iOvt2_SwrX9i",
    "outputId": "0105f691-bdc6-4f5b-a5a0-d8ea1c32ba0b"
   },
   "outputs": [
    {
     "data": {
      "image/png": "[encoded data removed]",
      "text/plain": [
       "<Figure size 432x288 with 1 Axes>"
      ]
     },
     "metadata": {
      "needs_background": "light",
      "tags": []
     },
     "output_type": "display_data"
    }
   ],
   "source": [
    "# using a tf.GradientTape object & Jacobian, compute the derivative(w.r.t a)  \n",
    "delta= pelu.paramater_A\n",
    "with tf.GradientTape() as tape:\n",
    "\n",
    "  y = pelu(x_range)\n",
    "\n",
    "dy_dx = tape.jacobian(y, delta)\n",
    "dy_dx  = tf.reshape(dy_dx, shape = (-1,))\n",
    "#When you take the Jacobian with respect to a scalar the result has the shape of the target, and gives the gradient of the each element with respect to the source:\n",
    "plt.plot(x_range.numpy(), y_range, label='y')\n",
    "plt.plot(x_range.numpy(), dy_dx, label='dy/dx')\n",
    "plt.legend()\n",
    "_= plt.xlabel('x')"
   ]
  },
  {
   "cell_type": "code",
   "execution_count": null,
   "metadata": {
    "colab": {
     "base_uri": "https://localhost:8080/"
    },
    "id": "RO-V1DUi3sWz",
    "outputId": "1f30ade9-86f7-443e-df2b-27ef0c5a4939"
   },
   "outputs": [
    {
     "data": {
      "text/plain": [
       "<tf.Tensor: shape=(), dtype=bool, numpy=True>"
      ]
     },
     "execution_count": 11,
     "metadata": {
      "tags": []
     },
     "output_type": "execute_result"
    }
   ],
   "source": [
    "tf.reduce_all(tf.abs(der_peluA - dy_dx) < 1e-4) #check its correctness up to a certain numerical precision."
   ]
  },
  {
   "cell_type": "markdown",
   "metadata": {
    "id": "H5cMr36bqtHN"
   },
   "source": [
    "try the same for the  β  parameter"
   ]
  },
  {
   "cell_type": "code",
   "execution_count": null,
   "metadata": {
    "id": "-IcVPnaLd1Ji"
   },
   "outputs": [],
   "source": [
    "#Derivative function of PELU w.r.t beta\n",
    "def der_pelu_b(inputs):\n",
    "  \n",
    "  alpha_=pelu.paramater_A\n",
    "  beta=pelu.paramater_B\n",
    "  #if x>=0 --> -alpha*x / exp(square(beta))\n",
    "  # if x<0 --> - alpha * x * exp(x/beta) / square(beta)\n",
    "  return  -1* divide(multiply(inputs * tf.cast(inputs>=0, dtype='float32'),alpha_) ,square(beta)) +  -1*multiply(multiply(divide(inputs * tf.cast(inputs<0, dtype='float32') , square(beta)),alpha_),exp(divide(inputs,beta)) )\n"
   ]
  },
  {
   "cell_type": "code",
   "execution_count": null,
   "metadata": {
    "id": "ok6QnDrdd4Qb"
   },
   "outputs": [],
   "source": [
    "der_peluB=der_pelu_b(x_range)\n"
   ]
  },
  {
   "cell_type": "code",
   "execution_count": null,
   "metadata": {
    "colab": {
     "base_uri": "https://localhost:8080/",
     "height": 279
    },
    "id": "OkFrrWt7sxiR",
    "outputId": "a9340fdf-5442-4365-9893-2e9713c29e3e"
   },
   "outputs": [
    {
     "data": {
      "image/png": "[encoded data removed]",
      "text/plain": [
       "<Figure size 432x288 with 1 Axes>"
      ]
     },
     "metadata": {
      "needs_background": "light",
      "tags": []
     },
     "output_type": "display_data"
    }
   ],
   "source": [
    "# using a tf.GradientTape object & Jacobian, compute the derivative(w.r.t b)\n",
    "deltaB= pelu.paramater_B\n",
    "with tf.GradientTape() as tape:\n",
    "\n",
    "  y = pelu(x_range)\n",
    "\n",
    "dy_dx_B = tape.jacobian(y, deltaB)\n",
    "dy_dx_B  = tf.reshape(dy_dx_B, shape = (-1,))\n",
    "#When you take the Jacobian with respect to a scalar the result has the shape of the target, and gives the gradient of the each element with respect to the source:\n",
    "plt.plot(x_range.numpy(), y_range, label='y')\n",
    "plt.plot(x_range.numpy(), dy_dx_B, label='dy/dx')\n",
    "plt.legend()\n",
    "_= plt.xlabel('x')"
   ]
  },
  {
   "cell_type": "code",
   "execution_count": null,
   "metadata": {
    "colab": {
     "base_uri": "https://localhost:8080/"
    },
    "id": "FFqwcLC1trek",
    "outputId": "1de49738-c9f1-4d98-ca84-d4df9fea4161"
   },
   "outputs": [
    {
     "data": {
      "text/plain": [
       "<tf.Tensor: shape=(), dtype=bool, numpy=True>"
      ]
     },
     "execution_count": 15,
     "metadata": {
      "tags": []
     },
     "output_type": "execute_result"
    }
   ],
   "source": [
    "tf.reduce_all(tf.abs(der_peluB - dy_dx_B) < 1e-4) #check its correctness up to a certain numerical precision."
   ]
  },
  {
   "cell_type": "markdown",
   "metadata": {
    "id": "7yjnVl6Ysm7F"
   },
   "source": [
    "### Exercise 3: PELU in practice\n",
    "\n",
    "Consider a simple model built with the PELU activation function, as below."
   ]
  },
  {
   "cell_type": "markdown",
   "metadata": {
    "id": "BvVbeTDwtdbu"
   },
   "source": [
    "**Exercise 3**: load any classification dataset, and train the model above (using either a custom training loop or `model.fit(...)`). Additionally, compare with a standard ReLU activation."
   ]
  },
  {
   "cell_type": "code",
   "execution_count": null,
   "metadata": {
    "id": "sdztM2dlJ3f2"
   },
   "outputs": [],
   "source": [
    "from sklearn import datasets, model_selection, preprocessing"
   ]
  },
  {
   "cell_type": "code",
   "execution_count": null,
   "metadata": {
    "id": "ah5Az0gwFCIK"
   },
   "outputs": [],
   "source": [
    " mnist_test= pd.read_csv(\"/content/sample_data/mnist_test.csv\", header=None)"
   ]
  },
  {
   "cell_type": "code",
   "execution_count": null,
   "metadata": {
    "id": "islJUKXTFEZ0"
   },
   "outputs": [],
   "source": [
    "mnist_train_small = pd.read_csv(\"/content/sample_data/mnist_train_small.csv\", header=None)"
   ]
  },
  {
   "cell_type": "code",
   "execution_count": null,
   "metadata": {
    "id": "yGLTQWuOJz5V"
   },
   "outputs": [],
   "source": [
    "X_tr =  mnist_train_small.iloc[:, 1:].values.astype('float32')\n",
    "y_tr =  mnist_train_small.iloc[:, 0].values.reshape(-1,1).astype('float32')\n",
    "\n",
    "X_tst = mnist_test.iloc[:, 1:].values.astype('float32')\n",
    "y_tst = mnist_test.iloc[:, 0].values.reshape(-1,1).astype('float32')"
   ]
  },
  {
   "cell_type": "code",
   "execution_count": null,
   "metadata": {
    "id": "ZRqMvHfCKHYM"
   },
   "outputs": [],
   "source": [
    "# Standard scaling in scikit-learn\n",
    "scaler = preprocessing.StandardScaler()\n",
    "scaler.fit(X_tr)\n",
    "X_tr = scaler.transform(X_tr)\n",
    "X_tst = scaler.transform(X_tst)\n",
    "\n",
    "train_dataset = tf.data.Dataset.from_tensor_slices((X_tr, y_tr)).batch(32)\n",
    "test_dataset = tf.data.Dataset.from_tensor_slices((X_tst, y_tst)).batch(32)"
   ]
  },
  {
   "cell_type": "code",
   "execution_count": null,
   "metadata": {
    "id": "HF5S67DDs7xr"
   },
   "outputs": [],
   "source": [
    "model = tf.keras.Sequential(layers=[\n",
    "      tf.keras.layers.Dense(50),\n",
    "      PELU(50),\n",
    "      tf.keras.layers.Dense(10, activation='softmax')])"
   ]
  },
  {
   "cell_type": "code",
   "execution_count": null,
   "metadata": {
    "colab": {
     "base_uri": "https://localhost:8080/"
    },
    "id": "dpHI1HfbzAQF",
    "outputId": "081c0c54-7491-44d7-a598-bbce329f0e40"
   },
   "outputs": [
    {
     "name": "stdout",
     "output_type": "stream",
     "text": [
      "Epoch 1/25\n",
      "625/625 [==============================] - 1s 2ms/step - loss: 0.1545 - sparse_categorical_accuracy: 0.9562 - val_loss: 0.3079 - val_sparse_categorical_accuracy: 0.9287\n",
      "Epoch 2/25\n",
      "625/625 [==============================] - 1s 2ms/step - loss: 0.1522 - sparse_categorical_accuracy: 0.9570 - val_loss: 0.3079 - val_sparse_categorical_accuracy: 0.9284\n",
      "Epoch 3/25\n",
      "625/625 [==============================] - 1s 2ms/step - loss: 0.1500 - sparse_categorical_accuracy: 0.9574 - val_loss: 0.3080 - val_sparse_categorical_accuracy: 0.9287\n",
      "Epoch 4/25\n",
      "625/625 [==============================] - 1s 2ms/step - loss: 0.1478 - sparse_categorical_accuracy: 0.9580 - val_loss: 0.3082 - val_sparse_categorical_accuracy: 0.9291\n",
      "Epoch 5/25\n",
      "625/625 [==============================] - 1s 2ms/step - loss: 0.1457 - sparse_categorical_accuracy: 0.9586 - val_loss: 0.3084 - val_sparse_categorical_accuracy: 0.9295\n",
      "Epoch 6/25\n",
      "625/625 [==============================] - 1s 2ms/step - loss: 0.1437 - sparse_categorical_accuracy: 0.9594 - val_loss: 0.3087 - val_sparse_categorical_accuracy: 0.9296\n",
      "Epoch 7/25\n",
      "625/625 [==============================] - 1s 2ms/step - loss: 0.1416 - sparse_categorical_accuracy: 0.9599 - val_loss: 0.3091 - val_sparse_categorical_accuracy: 0.9301\n",
      "Epoch 8/25\n",
      "625/625 [==============================] - 1s 2ms/step - loss: 0.1396 - sparse_categorical_accuracy: 0.9606 - val_loss: 0.3095 - val_sparse_categorical_accuracy: 0.9306\n",
      "Epoch 9/25\n",
      "625/625 [==============================] - 1s 2ms/step - loss: 0.1377 - sparse_categorical_accuracy: 0.9613 - val_loss: 0.3099 - val_sparse_categorical_accuracy: 0.9309\n",
      "Epoch 10/25\n",
      "625/625 [==============================] - 1s 2ms/step - loss: 0.1358 - sparse_categorical_accuracy: 0.9617 - val_loss: 0.3104 - val_sparse_categorical_accuracy: 0.9306\n",
      "Epoch 11/25\n",
      "625/625 [==============================] - 1s 2ms/step - loss: 0.1339 - sparse_categorical_accuracy: 0.9621 - val_loss: 0.3110 - val_sparse_categorical_accuracy: 0.9312\n",
      "Epoch 12/25\n",
      "625/625 [==============================] - 1s 2ms/step - loss: 0.1320 - sparse_categorical_accuracy: 0.9627 - val_loss: 0.3116 - val_sparse_categorical_accuracy: 0.9309\n",
      "Epoch 13/25\n",
      "625/625 [==============================] - 1s 2ms/step - loss: 0.1302 - sparse_categorical_accuracy: 0.9633 - val_loss: 0.3122 - val_sparse_categorical_accuracy: 0.9314\n",
      "Epoch 14/25\n",
      "625/625 [==============================] - 1s 2ms/step - loss: 0.1285 - sparse_categorical_accuracy: 0.9638 - val_loss: 0.3129 - val_sparse_categorical_accuracy: 0.9318\n",
      "Epoch 15/25\n",
      "625/625 [==============================] - 1s 2ms/step - loss: 0.1267 - sparse_categorical_accuracy: 0.9641 - val_loss: 0.3136 - val_sparse_categorical_accuracy: 0.9321\n",
      "Epoch 16/25\n",
      "625/625 [==============================] - 1s 2ms/step - loss: 0.1250 - sparse_categorical_accuracy: 0.9644 - val_loss: 0.3144 - val_sparse_categorical_accuracy: 0.9326\n",
      "Epoch 17/25\n",
      "625/625 [==============================] - 1s 2ms/step - loss: 0.1233 - sparse_categorical_accuracy: 0.9650 - val_loss: 0.3153 - val_sparse_categorical_accuracy: 0.9325\n",
      "Epoch 18/25\n",
      "625/625 [==============================] - 1s 2ms/step - loss: 0.1217 - sparse_categorical_accuracy: 0.9657 - val_loss: 0.3162 - val_sparse_categorical_accuracy: 0.9326\n",
      "Epoch 19/25\n",
      "625/625 [==============================] - 1s 2ms/step - loss: 0.1200 - sparse_categorical_accuracy: 0.9661 - val_loss: 0.3171 - val_sparse_categorical_accuracy: 0.9326\n",
      "Epoch 20/25\n",
      "625/625 [==============================] - 1s 2ms/step - loss: 0.1184 - sparse_categorical_accuracy: 0.9665 - val_loss: 0.3181 - val_sparse_categorical_accuracy: 0.9330\n",
      "Epoch 21/25\n",
      "625/625 [==============================] - 1s 2ms/step - loss: 0.1168 - sparse_categorical_accuracy: 0.9670 - val_loss: 0.3192 - val_sparse_categorical_accuracy: 0.9332\n",
      "Epoch 22/25\n",
      "625/625 [==============================] - 1s 2ms/step - loss: 0.1153 - sparse_categorical_accuracy: 0.9676 - val_loss: 0.3203 - val_sparse_categorical_accuracy: 0.9332\n",
      "Epoch 23/25\n",
      "625/625 [==============================] - 1s 2ms/step - loss: 0.1137 - sparse_categorical_accuracy: 0.9682 - val_loss: 0.3214 - val_sparse_categorical_accuracy: 0.9333\n",
      "Epoch 24/25\n",
      "625/625 [==============================] - 1s 2ms/step - loss: 0.1122 - sparse_categorical_accuracy: 0.9683 - val_loss: 0.3225 - val_sparse_categorical_accuracy: 0.9335\n",
      "Epoch 25/25\n",
      "625/625 [==============================] - 1s 2ms/step - loss: 0.1107 - sparse_categorical_accuracy: 0.9686 - val_loss: 0.3237 - val_sparse_categorical_accuracy: 0.9334\n"
     ]
    },
    {
     "data": {
      "text/plain": [
       "<tensorflow.python.keras.callbacks.History at 0x7f4c38eb00f0>"
      ]
     },
     "execution_count": 48,
     "metadata": {
      "tags": []
     },
     "output_type": "execute_result"
    }
   ],
   "source": [
    "acc = metrics.SparseCategoricalAccuracy()\n",
    "cross_entropy = losses.SparseCategoricalCrossentropy()\n",
    "sgd = optimizers.SGD(learning_rate=1e-3)\n",
    "# Compile writes all the previous training code for us!\n",
    "\n",
    "model.compile(optimizer=sgd,\n",
    "              loss=cross_entropy,\n",
    "              metrics=[acc])\n",
    "\n",
    "model.fit(train_dataset, epochs=25,  validation_data=test_dataset)"
   ]
  }
 ],
 "metadata": {
  "colab": {
   "collapsed_sections": [],
   "name": "[NNDS] Homework_1_<1891292>.ipynb",
   "provenance": []
  },
  "kernelspec": {
   "display_name": "Python 3",
   "language": "python",
   "name": "python3"
  },
  "language_info": {
   "codemirror_mode": {
    "name": "ipython",
    "version": 3
   },
   "file_extension": ".py",
   "mimetype": "text/x-python",
   "name": "python",
   "nbconvert_exporter": "python",
   "pygments_lexer": "ipython3",
   "version": "3.7.4"
  }
 },
 "nbformat": 4,
 "nbformat_minor": 1
}
